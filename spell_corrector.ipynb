{
 "cells": [
  {
   "cell_type": "code",
   "execution_count": 1,
   "metadata": {},
   "outputs": [],
   "source": [
    "import numpy as np"
   ]
  },
  {
   "cell_type": "code",
   "execution_count": 2,
   "metadata": {},
   "outputs": [],
   "source": [
    "import pandas as pd"
   ]
  },
  {
   "cell_type": "code",
   "execution_count": 21,
   "metadata": {},
   "outputs": [],
   "source": [
    "def LCSubStr(X, Y, m, n):\n",
    "    \n",
    "     \n",
    "    # LCSuff is the table with zero \n",
    "    # value initially in each cell\n",
    "    LCSuff = [[0 for k in range(n+1)] for l in range(m+1)]\n",
    "     \n",
    "    # To store the length of \n",
    "    # longest common substring\n",
    "    result = 0\n",
    "    # Following steps to build\n",
    "    # LCSuff[m+1][n+1] in bottom up fashion\n",
    "    for i in range(m + 1):\n",
    "        for j in range(n + 1):\n",
    "            if (i == 0 or j == 0):\n",
    "                LCSuff[i][j] = 0\n",
    "            elif (X[i-1] == Y[j-1]):\n",
    "                LCSuff[i][j] = LCSuff[i-1][j-1] + 1\n",
    "                result = max(result, LCSuff[i][j])\n",
    "            else:\n",
    "                LCSuff[i][j] = 0\n",
    "    return result"
   ]
  },
  {
   "cell_type": "code",
   "execution_count": 26,
   "metadata": {},
   "outputs": [],
   "source": [
    "f = open('data2.txt').read().splitlines()"
   ]
  },
  {
   "cell_type": "code",
   "execution_count": 27,
   "metadata": {},
   "outputs": [
    {
     "data": {
      "text/plain": [
       "1"
      ]
     },
     "execution_count": 27,
     "metadata": {},
     "output_type": "execute_result"
    }
   ],
   "source": [
    "len(f[0])"
   ]
  },
  {
   "cell_type": "code",
   "execution_count": 49,
   "metadata": {},
   "outputs": [],
   "source": [
    "def returnclosest(str1):\n",
    "    temp = -1\n",
    "    index1=0\n",
    "    return1 =0\n",
    "    for index,words in enumerate(f):\n",
    "        if( str1 == words ):\n",
    "            return len(str1),str1\n",
    "        return1 = LCSubStr( str1, words, len(str1), len(words))\n",
    "        if(  return1 >= temp ):\n",
    "            if( return1 == temp ):\n",
    "                if( len(words) <= len(f[index1])):\n",
    "                    temp = LCSubStr( str1, words, len(str1), len(words))\n",
    "                    index1 = index\n",
    "            else :\n",
    "                temp = LCSubStr( str1, words, len(str1), len(words))\n",
    "                index1 = index\n",
    "    \n",
    "    return temp,f[index1]       "
   ]
  },
  {
   "cell_type": "code",
   "execution_count": 50,
   "metadata": {},
   "outputs": [
    {
     "data": {
      "text/plain": [
       "(3, 'age')"
      ]
     },
     "execution_count": 50,
     "metadata": {},
     "output_type": "execute_result"
    }
   ],
   "source": [
    "returnclosest(\"age\")"
   ]
  },
  {
   "cell_type": "code",
   "execution_count": 51,
   "metadata": {},
   "outputs": [
    {
     "data": {
      "text/plain": [
       "(8, 'transfer')"
      ]
     },
     "execution_count": 51,
     "metadata": {},
     "output_type": "execute_result"
    }
   ],
   "source": [
    "returnclosest(\"transfere\")"
   ]
  },
  {
   "cell_type": "code",
   "execution_count": 52,
   "metadata": {},
   "outputs": [
    {
     "data": {
      "text/plain": [
       "(3, 'wise')"
      ]
     },
     "execution_count": 52,
     "metadata": {},
     "output_type": "execute_result"
    }
   ],
   "source": [
    "returnclosest(\"ise\")"
   ]
  },
  {
   "cell_type": "code",
   "execution_count": null,
   "metadata": {},
   "outputs": [],
   "source": []
  },
  {
   "cell_type": "code",
   "execution_count": null,
   "metadata": {},
   "outputs": [],
   "source": []
  },
  {
   "cell_type": "code",
   "execution_count": null,
   "metadata": {},
   "outputs": [],
   "source": []
  },
  {
   "cell_type": "code",
   "execution_count": 37,
   "metadata": {},
   "outputs": [
    {
     "data": {
      "text/plain": [
       "'\\nlist1 = []\\ndef correct(sent):\\n    next=0\\n    for words in sent.split():\\n        list1.append( returnclosest(words) )\\n    return list1\\n      \\nlist_correct = correct(sent)\\nfor i in list_correct:\\n    print i,\\n'"
      ]
     },
     "execution_count": 37,
     "metadata": {},
     "output_type": "execute_result"
    }
   ],
   "source": [
    "'''\n",
    "list1 = []\n",
    "def correct(sent):\n",
    "    next=0\n",
    "    for words in sent.split():\n",
    "        list1.append( returnclosest(words) )\n",
    "    return list1\n",
    "      \n",
    "list_correct = correct(sent)\n",
    "for i in list_correct:\n",
    "    print i,\n",
    "'''"
   ]
  },
  {
   "cell_type": "code",
   "execution_count": null,
   "metadata": {},
   "outputs": [],
   "source": []
  }
 ],
 "metadata": {
  "kernelspec": {
   "display_name": "Python 2",
   "language": "python",
   "name": "python2"
  },
  "language_info": {
   "codemirror_mode": {
    "name": "ipython",
    "version": 2
   },
   "file_extension": ".py",
   "mimetype": "text/x-python",
   "name": "python",
   "nbconvert_exporter": "python",
   "pygments_lexer": "ipython2",
   "version": "2.7.12"
  }
 },
 "nbformat": 4,
 "nbformat_minor": 2
}
